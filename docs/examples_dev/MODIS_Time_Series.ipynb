{
 "cells": [
  {
   "cell_type": "markdown",
   "metadata": {},
   "source": [
    "# QA masks for MODIS NDVI time series from Google Earth Engine\n",
    "\n",
    "The MODIS vegetation product has a Summary QA band which has 4 values:\n",
    "- 0: Good data, use with confidence\n",
    "- 1: Marginal data, useful but look at detailed QA for more information\n",
    "- 2: Pixel covered with snow/ice\n",
    "- 3: Pixel is cloudy\n",
    "\n",
    "It also has a DetailedQA band which is bit packed and gives more information about the pixel quality. Here we'll unpack the DetailedQA band to see. \n",
    "\n",
    "This uses the gee_subset packge to query Google Earth Engine (GEE) for a single pixel timeseries across 6 years. To use it you'll need a GEE account.\n",
    " - [GEE Info](https://developers.google.com/earth-engine/python_install)\n",
    " - [gee_subset package](https://github.com/bluegreen-labs/gee_subset)"
   ]
  },
  {
   "cell_type": "code",
   "execution_count": null,
   "metadata": {},
   "outputs": [],
   "source": [
    "import ee\n",
    "from gee_subset.gee_subset import gee_subset\n",
    "import pandas as pd\n",
    "import seaborn as sns\n",
    "import numpy as np\n",
    "# ee.Authenticate()\n",
    "ee.Initialize()\n",
    "\n",
    "import unpackqa"
   ]
  },
  {
   "cell_type": "code",
   "execution_count": null,
   "metadata": {},
   "outputs": [],
   "source": [
    "df = gee_subset(product    = 'MODIS/006/MOD13A1',\n",
    "                bands      = ['NDVI','DetailedQA'],\n",
    "                scale      = 500,\n",
    "                start_date = '2015-01-01',\n",
    "                end_date   = '2020-12-31',\n",
    "                latitude   =   44.8166,\n",
    "                longitude  = -114.8177,\n",
    "                pad        =  0)\n",
    "df.head()"
   ]
  },
  {
   "cell_type": "markdown",
   "metadata": {},
   "source": [
    "First adjust the NDVI by the scaling factor and drop any NA values"
   ]
  },
  {
   "cell_type": "code",
   "execution_count": null,
   "metadata": {},
   "outputs": [],
   "source": [
    "df['NDVI'] = df.NDVI * 0.0001\n",
    "df = df[~df.NDVI.isna()].reset_index()"
   ]
  },
  {
   "cell_type": "markdown",
   "metadata": {},
   "source": [
    " Values from GEE come in as floats, but unpackqa only works on integers. Here DetailedQA are 16-bits"
   ]
  },
  {
   "cell_type": "code",
   "execution_count": null,
   "metadata": {},
   "outputs": [],
   "source": [
    "df['DetailedQA'] = df.DetailedQA.astype(np.uint16)\n",
    "\n",
    "expanded_detailed_qa = unpackqa.unpack_to_dict(df.DetailedQA.values, product = 'MOD13Q1v006_DetailedQA', flags='all')"
   ]
  },
  {
   "cell_type": "markdown",
   "metadata": {},
   "source": [
    "`unpack_to_dict` produces a dictionary where each key is a flag, and each value is an array the same length as the `df` data.frame. This can be converted directly to a new data.frame where the columns are the flag names, and then appended to the original data.frame."
   ]
  },
  {
   "cell_type": "code",
   "execution_count": null,
   "metadata": {},
   "outputs": [],
   "source": [
    "expanded_detailed_qa = pd.DataFrame(expanded_detailed_qa)\n",
    "df = pd.concat([df, expanded_detailed_qa], axis=1)\n",
    "df.head()"
   ]
  },
  {
   "cell_type": "markdown",
   "metadata": {},
   "source": [
    "Each pixel value in the time series now has the associated flags as columns.   \n",
    "The `VI_Quality` flag has 4 values, where 0 signifies the best quality, 1 signifies a QA issue, 2 indicates likely clouds, and 3 indicates the pixel was not produced. Note in this instance there are no \"not produced\" pixels."
   ]
  },
  {
   "cell_type": "code",
   "execution_count": null,
   "metadata": {},
   "outputs": [],
   "source": [
    "colors = {0:'green',\n",
    "          1:'red',\n",
    "          2:'darkred',\n",
    "          3:'black'}\n",
    "\n",
    "sns.scatterplot(x='date',y='NDVI',hue='VI_Quality',data=df,palette=colors)"
   ]
  },
  {
   "cell_type": "markdown",
   "metadata": {},
   "source": [
    "Other DetailedQA flags can give more insight into what it is affecting pixel quality. Here lets single out clouds, snow/ice, or cloud shadows. "
   ]
  },
  {
   "cell_type": "code",
   "execution_count": null,
   "metadata": {},
   "outputs": [],
   "source": [
    "colors = {0:'green',\n",
    "          1:'red'}\n",
    "sns.scatterplot(x='date',y='NDVI',hue='Mixed_Clouds',data=df,palette=colors)"
   ]
  },
  {
   "cell_type": "code",
   "execution_count": null,
   "metadata": {},
   "outputs": [],
   "source": [
    "sns.scatterplot(x='date',y='NDVI',hue='Possible_snow_ice',data=df,palette=colors)"
   ]
  },
  {
   "cell_type": "code",
   "execution_count": null,
   "metadata": {
    "scrolled": true
   },
   "outputs": [],
   "source": [
    "sns.scatterplot(x='date',y='NDVI',hue='Possible_shadow',data=df,palette=colors)"
   ]
  },
  {
   "cell_type": "markdown",
   "metadata": {},
   "source": [
    "Other quality issues may also be affecting it. Looking at the unique combinations of `VI_Quality` along with the other flags shows what is driving the final quality indicator."
   ]
  },
  {
   "cell_type": "code",
   "execution_count": null,
   "metadata": {},
   "outputs": [],
   "source": [
    " df[['VI_Quality','Mixed_Clouds','Adjacent_cloud_detected','Possible_snow_ice','Possible_shadow','Atmosphere_BRDF_Correction']].drop_duplicates().sort_values('VI_Quality')"
   ]
  }
 ],
 "metadata": {
  "kernelspec": {
   "display_name": "Python 3",
   "language": "python",
   "name": "python3"
  },
  "language_info": {
   "codemirror_mode": {
    "name": "ipython",
    "version": 3
   },
   "file_extension": ".py",
   "mimetype": "text/x-python",
   "name": "python",
   "nbconvert_exporter": "python",
   "pygments_lexer": "ipython3",
   "version": "3.7.6"
  }
 },
 "nbformat": 4,
 "nbformat_minor": 4
}
