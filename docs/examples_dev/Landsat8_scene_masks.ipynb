{
 "cells": [
  {
   "cell_type": "markdown",
   "metadata": {},
   "source": [
    "# Making QA masks from a Landsat 8 scene with unpackqa"
   ]
  },
  {
   "cell_type": "code",
   "execution_count": null,
   "metadata": {},
   "outputs": [],
   "source": [
    "import rasterio\n",
    "from matplotlib import pyplot as plt\n",
    "import numpy as np\n",
    "\n",
    "import unpackqa"
   ]
  },
  {
   "cell_type": "markdown",
   "metadata": {},
   "source": [
    "This is a Landsat 8 Collection 2 Level 2 product for  Path 14, Row 41, May 3, 2013. \n",
    "It's from the example datasets here: https://www.usgs.gov/core-science-systems/nli/landsat/landsat-sample-products"
   ]
  },
  {
   "cell_type": "code",
   "execution_count": null,
   "metadata": {
    "scrolled": true
   },
   "outputs": [],
   "source": [
    "L8_QA_PIXEL_FILE = '/home/shawn/projects/unpackqa/docs/examples_dev/LC08_L2SP_140041_20130503_20200912_02_T1_QA_PIXEL.TIF'\n",
    "# This is the product code internal to unpackqa only.\n",
    "L8_qa_product = 'LANDSAT_8_C2_L2_QAPixel'\n",
    "\n",
    "# Load the QA raster as a numpy array.\n",
    "with rasterio.open(L8_QA_PIXEL_FILE) as src:\n",
    "    img_qa_data = src.read(1)\n",
    "    \n",
    "    \n",
    "def quick_raster_plot(img_data, title='', legend=False, unique_values=[0,1]):\n",
    "    plt.figure(figsize = (8,8))\n",
    "    plt.title(title)\n",
    "    plt.imshow(img_data)\n",
    "    if legend:\n",
    "        plt.colorbar(ticks=unique_values,values=unique_values, fraction=0.03)"
   ]
  },
  {
   "cell_type": "markdown",
   "metadata": {},
   "source": [
    "First we'll make a mask for a single flag, the \"Cloud\" flag (bit 4). See the flag details here https://sdtaylor.github.io/unpackqa/Landsat.html"
   ]
  },
  {
   "cell_type": "code",
   "execution_count": null,
   "metadata": {},
   "outputs": [],
   "source": [
    "cloud_only_mask = unpackqa.unpack_to_array(img_qa_data, \n",
    "                                             product=L8_qa_product, \n",
    "                                             flags=['Cloud'])\n",
    "\n",
    "quick_raster_plot(cloud_only_mask, title='Cloud Only Mask')"
   ]
  },
  {
   "cell_type": "markdown",
   "metadata": {},
   "source": [
    "Along with clouds you probably also want to mask cloud shadows.\n",
    "It's possible to pull both those masks at once and combine them for a single mask.\n",
    "\n",
    "Here the `cloud_and_shadow_mask` array has an added axis at the end, with length 2, representing the 2 masks.\n",
    "Next those 2 axis are summed, so that any value > 0 represents a pixel with either a cloud or cloud shadow "
   ]
  },
  {
   "cell_type": "code",
   "execution_count": null,
   "metadata": {},
   "outputs": [],
   "source": [
    "cloud_and_shadow_mask = unpackqa.unpack_to_array(img_qa_data, \n",
    "                                                   product=L8_qa_product, \n",
    "                                                   flags=['Cloud','Cloud Shadow'])\n",
    "print('Original Scene Shape: {}'.format(img_qa_data.shape))\n",
    "print('Cloud and Shadow mask shape: {}'.format(cloud_and_shadow_mask.shape))"
   ]
  },
  {
   "cell_type": "code",
   "execution_count": null,
   "metadata": {},
   "outputs": [],
   "source": [
    "cloud_and_shadow_mask = cloud_and_shadow_mask.sum(axis=-1) > 0\n",
    "quick_raster_plot(cloud_and_shadow_mask, title='Cloud and Cloud Shadow mask')"
   ]
  },
  {
   "cell_type": "markdown",
   "metadata": {},
   "source": [
    "Most QA bands are binary (either 0 or 1) but some have more values. Here the Cloud Confidence QA flag can take the following values.   \n",
    "  - 0 : for no confidence level set\n",
    "  - 1 : Low confidence\n",
    "  - 2 : Medium confidence\n",
    "  - 3 : High confidence\n",
    "\n",
    "These can be plotted as well to show the variation in cloud confidence \n",
    "across the scene."
   ]
  },
  {
   "cell_type": "code",
   "execution_count": null,
   "metadata": {},
   "outputs": [],
   "source": [
    "cloud_confidence = unpackqa.unpack_to_array(img_qa_data, \n",
    "                                              product=L8_qa_product, \n",
    "                                              flags=['Cloud Confidence'])\n",
    "\n",
    "quick_raster_plot(cloud_confidence, title = 'Cloud Confidence Values', unique_values=[0,1,2,3], legend=True)"
   ]
  },
  {
   "cell_type": "markdown",
   "metadata": {},
   "source": [
    "If you need several masks for different purposes it would be useful to be able to reference them directly.  \n",
    "For example, say you want to mask out cloudy pixels, but you also want the water mask to highlight rivers or lakes.  \n",
    "The `unpack_to_dict` function allows for easier separation to use flags later.  "
   ]
  },
  {
   "cell_type": "code",
   "execution_count": null,
   "metadata": {},
   "outputs": [],
   "source": [
    "masks = unpackqa.unpack_to_dict(img_qa_data, \n",
    "                                  product=L8_qa_product, \n",
    "                                  flags=['Cloud','Water'])\n",
    "\n",
    "quick_raster_plot(masks['Cloud'], title='Cloud Mask from dictionary')"
   ]
  },
  {
   "cell_type": "code",
   "execution_count": null,
   "metadata": {},
   "outputs": [],
   "source": [
    "plt.figure(figsize = (10,10))\n",
    "quick_raster_plot(masks['Water'], title='Water Mask from dictionary')"
   ]
  }
 ],
 "metadata": {
  "kernelspec": {
   "display_name": "Python 3",
   "language": "python",
   "name": "python3"
  },
  "language_info": {
   "codemirror_mode": {
    "name": "ipython",
    "version": 3
   },
   "file_extension": ".py",
   "mimetype": "text/x-python",
   "name": "python",
   "nbconvert_exporter": "python",
   "pygments_lexer": "ipython3",
   "version": "3.7.6"
  }
 },
 "nbformat": 4,
 "nbformat_minor": 4
}
