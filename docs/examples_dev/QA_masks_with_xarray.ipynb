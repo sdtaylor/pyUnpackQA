{
 "cells": [
  {
   "cell_type": "markdown",
   "id": "68c3fb7a",
   "metadata": {},
   "source": [
    "# Making QA masks with unpackqa and xarray"
   ]
  },
  {
   "cell_type": "markdown",
   "id": "f9ed228b",
   "metadata": {},
   "source": [
    "The `xarray` package allows you to work with labelled arrays. It uses numpy arrays, so `unpackqa` works with it without any modifications. "
   ]
  },
  {
   "cell_type": "code",
   "execution_count": null,
   "id": "cf3240dd",
   "metadata": {},
   "outputs": [],
   "source": [
    "import xarray as xr\n",
    "import dask\n",
    "import numpy as np\n",
    "import pooch\n",
    "\n",
    "import unpackqa\n",
    "\n",
    "L8_QA_PIXEL_FILE = 'https://landsat.usgs.gov/sites/default/files/C2_Sample_Data/LC08_L1TP_140041_20130503_20200912_02_T1.zip'\n",
    "L8_qa_product = 'LANDSAT_8_C2_L2_QAPixel'\n",
    "\n",
    "file_path = pooch.retrieve(\n",
    "    L8_QA_PIXEL_FILE,\n",
    "    known_hash=None,\n",
    "    processor=pooch.Unzip()\n",
    ")\n",
    "\n",
    "my_file = [f for f in file_path if 'QA_PIXEL' in f][0]\n",
    "ds = xr.open_rasterio(my_file, chunks={'x':2000,'y':2000})\n",
    "\n",
    "# Drop the band axis since the file has a single band.\n",
    "ds = ds.isel(band=0)"
   ]
  },
  {
   "cell_type": "markdown",
   "id": "f8ac2f61",
   "metadata": {},
   "source": [
    "### Flags values as a new dim\n",
    "`unpack_to_array` can be used directly inside the xarray `apply_ufunc` function. With this setup you can take advantage of a parallel computing environment. Read more in the xarray docs: http://xarray.pydata.org/en/stable/user-guide/dask.html\n",
    "\n",
    "Here a new dim will be added called `flag`, with the same length as the number of flags in the Landsat 8 QA_PIXEL band. The `flag` dim should be set as a core dim.  "
   ]
  },
  {
   "cell_type": "code",
   "execution_count": null,
   "id": "99c5a150",
   "metadata": {},
   "outputs": [],
   "source": [
    "L8_flag_names = unpackqa.list_qa_flags(L8_qa_product)\n",
    "\n",
    "flag_ds = xr.apply_ufunc(\n",
    "    unpackqa.unpack_to_array,\n",
    "    ds,\n",
    "    kwargs = dict(product=L8_qa_product),\n",
    "    output_core_dims = [['flag']],\n",
    "    dask_gufunc_kwargs = dict(output_sizes={'flag':len(L8_flag_names)}),\n",
    "    output_dtypes=[np.uint8],\n",
    "    vectorize=False,\n",
    "    dask='parallelized'\n",
    "    )\n",
    "\n",
    "# put labels on the flag coordinates\n",
    "flag_ds['flag'] = L8_flag_names\n",
    "\n",
    "print(flag_ds)"
   ]
  },
  {
   "cell_type": "markdown",
   "id": "69694735",
   "metadata": {},
   "source": [
    "### Flag values as new variables\n",
    "Another option would be to have each flag as it's own data variable. That can be done with some rearranging."
   ]
  },
  {
   "cell_type": "code",
   "execution_count": null,
   "id": "18fdb2be",
   "metadata": {},
   "outputs": [],
   "source": [
    "flag_ds2 = [flag_ds.sel(flag=flag_name).drop('flag').rename(flag_name) for flag_name in L8_flag_names]\n",
    "flag_ds2 = xr.merge(flag_ds2)\n",
    "print(flag_ds2)"
   ]
  },
  {
   "cell_type": "markdown",
   "id": "ef09719b",
   "metadata": {},
   "source": [
    "### Loading and viewing flags\n",
    "When the `chunks` argument is set for `xr.open_rasterio`, all files are accessed lazily. The `load` options executes all underlying functions and loads all data into memory."
   ]
  },
  {
   "cell_type": "code",
   "execution_count": null,
   "id": "e723d43a",
   "metadata": {},
   "outputs": [],
   "source": [
    "flag_ds2.load()\n",
    "print(flag_ds2)"
   ]
  }
 ],
 "metadata": {
  "kernelspec": {
   "display_name": "Python 3 (ipykernel)",
   "language": "python",
   "name": "python3"
  },
  "language_info": {
   "codemirror_mode": {
    "name": "ipython",
    "version": 3
   },
   "file_extension": ".py",
   "mimetype": "text/x-python",
   "name": "python",
   "nbconvert_exporter": "python",
   "pygments_lexer": "ipython3",
   "version": "3.8.12"
  }
 },
 "nbformat": 4,
 "nbformat_minor": 5
}
