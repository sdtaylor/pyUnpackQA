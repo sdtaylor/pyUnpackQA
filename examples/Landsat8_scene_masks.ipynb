{
 "cells": [
  {
   "cell_type": "markdown",
   "metadata": {},
   "source": [
    "# Making masks from a Landsat 8 scene"
   ]
  },
  {
   "cell_type": "code",
   "execution_count": null,
   "metadata": {},
   "outputs": [],
   "source": [
    "import rasterio\n",
    "from matplotlib import pyplot as plt\n",
    "import numpy as np\n",
    "\n",
    "import pyUnpackQA"
   ]
  },
  {
   "cell_type": "markdown",
   "metadata": {},
   "source": [
    "This is a Landsat 8 Collection 2 Level 2 product for  Path 14, Row 41, May 3, 2013. \n",
    "It's from the example datasets here: https://www.usgs.gov/core-science-systems/nli/landsat/landsat-sample-products"
   ]
  },
  {
   "cell_type": "code",
   "execution_count": null,
   "metadata": {
    "scrolled": true
   },
   "outputs": [],
   "source": [
    "L8_QA_PIXEL_FILE = '/home/shawn/projects/pyUnpackQA/docs/examples/LC08_L2SP_140041_20130503_20200912_02_T1_QA_PIXEL.TIF'\n",
    "# This is the product code internal to pyUnpackQA only.\n",
    "L8_qa_product = 'L8C2L2_QAPixel'\n",
    "\n",
    "# Load the QA raster as a numpy array.\n",
    "with rasterio.open(L8_QA_PIXEL_FILE) as src:\n",
    "    img_qa_data = src.read(1)"
   ]
  },
  {
   "cell_type": "markdown",
   "metadata": {},
   "source": [
    "First we'll make a mask for a single flag, the \"Cloud\" flag (bit 4)"
   ]
  },
  {
   "cell_type": "code",
   "execution_count": null,
   "metadata": {},
   "outputs": [],
   "source": [
    "cloud_only_mask = pyUnpackQA.unpack_to_array(img_qa_data, \n",
    "                                             product=L8_qa_product, \n",
    "                                             flags=['Cloud'])\n",
    "\n",
    "plt.imshow(cloud_only_mask)"
   ]
  },
  {
   "cell_type": "markdown",
   "metadata": {},
   "source": [
    "Along with clouds you probably also want to mask cloud shadows.\n",
    "It's possible to pull both those masks at once and combine them for a single mask.\n",
    "\n",
    "Here the `cloud_and_shadow_mask` array has an added axis at the end, with legnth 2, representing the 2 masks.\n",
    "Next those 2 axis are summed, so that any value > 0 represents a pixel with either a cloud or cloud shadow "
   ]
  },
  {
   "cell_type": "code",
   "execution_count": null,
   "metadata": {},
   "outputs": [],
   "source": [
    "cloud_and_shadow_mask = pyUnpackQA.unpack_to_array(img_qa_data, \n",
    "                                                   product=L8_qa_product, \n",
    "                                                   flags=['Cloud','Cloud Shadow'])\n",
    "cloud_and_shadow_mask = cloud_and_shadow_mask.sum(axis=-1) > 0\n",
    "\n",
    "plt.imshow(cloud_and_shadow_mask)"
   ]
  },
  {
   "cell_type": "markdown",
   "metadata": {},
   "source": [
    "Most QA bands are binary (either 0 or 1) but some have more values. Here the Cloud Confidence QA flag can take the following values.   \n",
    "  0 - for no confidence level set\n",
    "  1 - Low confidence\n",
    "  2 - Medium confidence\n",
    "  3 - High confidence\n",
    "\n",
    "These can be plotted as well to show the variation in cloud confidence \n",
    "across the scene."
   ]
  },
  {
   "cell_type": "code",
   "execution_count": null,
   "metadata": {},
   "outputs": [],
   "source": [
    "cloud_confidence = pyUnpackQA.unpack_to_array(img_qa_data, \n",
    "                                              product=L8_qa_product, \n",
    "                                              flags=['Cloud Confidence'])\n",
    "\n",
    "plt.imshow(cloud_confidence)"
   ]
  },
  {
   "cell_type": "markdown",
   "metadata": {},
   "source": [
    "If you need several masks for different purposes it would be useful.  \n",
    "For example, say you want to mask out cloudy pixels, but you also want the water mask to highlight rivers or lakes.  \n",
    "The unpack_to_dict function allows for easier separation to use flags later.  "
   ]
  },
  {
   "cell_type": "code",
   "execution_count": null,
   "metadata": {},
   "outputs": [],
   "source": [
    "masks = pyUnpackQA.unpack_to_dict(img_qa_data, \n",
    "                                  product=L8_qa_product, \n",
    "                                  flags=['Cloud','Water'])\n",
    "\n",
    "plt.imshow(masks['Cloud'])"
   ]
  },
  {
   "cell_type": "code",
   "execution_count": null,
   "metadata": {},
   "outputs": [],
   "source": [
    "plt.imshow(masks['Water'])"
   ]
  },
  {
   "cell_type": "code",
   "execution_count": null,
   "metadata": {},
   "outputs": [],
   "source": []
  }
 ],
 "metadata": {
  "kernelspec": {
   "display_name": "Python 3",
   "language": "python",
   "name": "python3"
  },
  "language_info": {
   "codemirror_mode": {
    "name": "ipython",
    "version": 3
   },
   "file_extension": ".py",
   "mimetype": "text/x-python",
   "name": "python",
   "nbconvert_exporter": "python",
   "pygments_lexer": "ipython3",
   "version": "3.7.6"
  }
 },
 "nbformat": 4,
 "nbformat_minor": 4
}
